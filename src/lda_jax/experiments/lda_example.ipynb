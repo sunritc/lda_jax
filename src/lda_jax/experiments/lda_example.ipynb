{
 "cells": [
  {
   "cell_type": "code",
   "id": "initial_id",
   "metadata": {
    "collapsed": true,
    "ExecuteTime": {
     "end_time": "2025-07-14T15:56:17.321990Z",
     "start_time": "2025-07-14T15:56:16.989180Z"
    }
   },
   "source": [
    "import numpy as np\n",
    "import jax\n",
    "\n",
    "from scipy.optimize import linear_sum_assignment\n",
    "\n",
    "from lda_jax.utils.generator import generate_lda_corpus\n",
    "from lda_jax.models.lda import LDAModel\n",
    "from lda_jax.inference.sampler import GibbsSampler, SamplerConfig"
   ],
   "outputs": [],
   "execution_count": 1
  },
  {
   "metadata": {
    "ExecuteTime": {
     "end_time": "2025-07-14T15:56:18.592260Z",
     "start_time": "2025-07-14T15:56:18.588115Z"
    }
   },
   "cell_type": "code",
   "source": [
    "def _distance(beta: np.ndarray, beta_hat: np.ndarray) -> float:\n",
    "    \"\"\"Minimal matched TV distance\"\"\"\n",
    "    K = beta.shape[0]\n",
    "    cost_matrix = np.zeros((K, K))\n",
    "    for i in range(K):\n",
    "        for j in range(K):\n",
    "            cost_matrix[i, j] = 0.5 * np.linalg.norm(beta[i] - beta_hat[j])\n",
    "\n",
    "    row_ind, col_ind = linear_sum_assignment(cost_matrix)\n",
    "    avg_tv = cost_matrix[row_ind, col_ind].mean()\n",
    "    return avg_tv"
   ],
   "id": "5c6b5a5e157a2a8d",
   "outputs": [],
   "execution_count": 2
  },
  {
   "metadata": {
    "ExecuteTime": {
     "end_time": "2025-07-14T15:56:20.510723Z",
     "start_time": "2025-07-14T15:56:19.236577Z"
    }
   },
   "cell_type": "code",
   "source": [
    "key = jax.random.PRNGKey(0)\n",
    "synth = generate_lda_corpus(\n",
    "    key,\n",
    "    num_docs=100,\n",
    "    num_topics=5,\n",
    "    vocab_size=30,\n",
    "    doc_length=35,\n",
    ")\n",
    "\n",
    "corpus     = synth.corpus\n",
    "true_beta  = np.asarray(synth.beta)  # (K, V)"
   ],
   "id": "f94b54c891f6b620",
   "outputs": [],
   "execution_count": 3
  },
  {
   "metadata": {
    "ExecuteTime": {
     "end_time": "2025-07-14T15:56:21.009084Z",
     "start_time": "2025-07-14T15:56:21.005413Z"
    }
   },
   "cell_type": "code",
   "source": [
    "# ------------------------------------------------------------------\n",
    "# 2. Fit model with Gibbs sampler\n",
    "# ------------------------------------------------------------------\n",
    "model   = LDAModel(num_topics=5, vocab_size=corpus.vocab_size)\n",
    "config  = SamplerConfig(num_iters=1000, burn_in=500, thin=20, rng_key=jax.random.PRNGKey(1), show_progress=True)\n",
    "sampler = GibbsSampler(corpus, model, config)"
   ],
   "id": "5e07a97441717b07",
   "outputs": [],
   "execution_count": 4
  },
  {
   "metadata": {
    "ExecuteTime": {
     "end_time": "2025-07-14T15:57:48.694115Z",
     "start_time": "2025-07-14T15:56:21.602665Z"
    }
   },
   "cell_type": "code",
   "source": [
    "sampler.run()\n",
    "est_phi = np.asarray(sampler.posterior_phi())  # (K, V)"
   ],
   "id": "c06397d9c143cc60",
   "outputs": [],
   "execution_count": 5
  },
  {
   "metadata": {
    "ExecuteTime": {
     "end_time": "2025-07-14T15:57:49.566622Z",
     "start_time": "2025-07-14T15:57:49.564514Z"
    }
   },
   "cell_type": "code",
   "source": "dist = _distance(true_beta, est_phi)",
   "id": "c38fa4173ecef4ce",
   "outputs": [],
   "execution_count": 6
  },
  {
   "metadata": {
    "ExecuteTime": {
     "end_time": "2025-07-14T15:57:50.089827Z",
     "start_time": "2025-07-14T15:57:50.084145Z"
    }
   },
   "cell_type": "code",
   "source": "dist",
   "id": "f9110d86f3980e21",
   "outputs": [
    {
     "data": {
      "text/plain": [
       "0.014288789592683315"
      ]
     },
     "execution_count": 7,
     "metadata": {},
     "output_type": "execute_result"
    }
   ],
   "execution_count": 7
  },
  {
   "metadata": {
    "ExecuteTime": {
     "end_time": "2025-07-14T15:57:56.003497Z",
     "start_time": "2025-07-14T15:57:51.068327Z"
    }
   },
   "cell_type": "code",
   "source": [
    "# directly use run_gibbs for much faster lax.scan gibbs\n",
    "\n",
    "from lda_jax.models.lda import run_gibbs\n",
    "\n",
    "final_state, _ = run_gibbs(corpus,\n",
    "                           model,\n",
    "                           num_iters=1000,\n",
    "                           key=key)"
   ],
   "id": "f2f01ee4c015a3b2",
   "outputs": [],
   "execution_count": 8
  },
  {
   "metadata": {
    "ExecuteTime": {
     "end_time": "2025-07-14T16:04:53.607291Z",
     "start_time": "2025-07-14T16:04:53.604096Z"
    }
   },
   "cell_type": "code",
   "source": "final_state.n_kw.shape",
   "id": "be5cbd5fa2341ec4",
   "outputs": [
    {
     "data": {
      "text/plain": [
       "(5, 30)"
      ]
     },
     "execution_count": 11,
     "metadata": {},
     "output_type": "execute_result"
    }
   ],
   "execution_count": 11
  },
  {
   "metadata": {},
   "cell_type": "code",
   "outputs": [],
   "execution_count": null,
   "source": "",
   "id": "ad5026f73d2f0562"
  }
 ],
 "metadata": {
  "kernelspec": {
   "display_name": "Python 3",
   "language": "python",
   "name": "python3"
  },
  "language_info": {
   "codemirror_mode": {
    "name": "ipython",
    "version": 2
   },
   "file_extension": ".py",
   "mimetype": "text/x-python",
   "name": "python",
   "nbconvert_exporter": "python",
   "pygments_lexer": "ipython2",
   "version": "2.7.6"
  }
 },
 "nbformat": 4,
 "nbformat_minor": 5
}
